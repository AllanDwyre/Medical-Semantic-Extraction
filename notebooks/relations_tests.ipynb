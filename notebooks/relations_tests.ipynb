{
 "cells": [
  {
   "cell_type": "code",
   "execution_count": 1,
   "id": "859298b9",
   "metadata": {},
   "outputs": [],
   "source": [
    "import sys\n",
    "import os\n",
    "\n",
    "# Ajouter le dossier parent (racine du projet) au sys.path\n",
    "sys.path.append(os.path.abspath(os.path.join(\"..\", \"\")))\n",
    "\n",
    "\n",
    "%load_ext autoreload\n",
    "%autoreload 1\n",
    "\n",
    "import src.semantic_analysis.content_analyser as c\n",
    "%aimport src.semantic_analysis.content_analyser\n",
    "\n",
    "from spacy import displacy\n",
    "\n",
    "\n",
    "from src.utils.helper import load_nlp_model\n",
    "from rich import print\n",
    "import importlib\n",
    "nlp = load_nlp_model()"
   ]
  },
  {
   "cell_type": "code",
   "execution_count": 2,
   "id": "35c792ee",
   "metadata": {},
   "outputs": [],
   "source": [
    "def display_dep(text):\n",
    "\tdoc = nlp(text)\n",
    "\tfor sent in doc.sents:\n",
    "\t\tdisplacy.render(sent, style=\"dep\")"
   ]
  },
  {
   "cell_type": "code",
   "execution_count": 6,
   "id": "8ccc0ecf",
   "metadata": {},
   "outputs": [
    {
     "data": {
      "text/html": [
       "<span class=\"tex2jax_ignore\"><svg xmlns=\"http://www.w3.org/2000/svg\" xmlns:xlink=\"http://www.w3.org/1999/xlink\" xml:lang=\"fr\" id=\"fd206f3a23bf4243ae3d178d79ce467e-0\" class=\"displacy\" width=\"2850\" height=\"399.5\" direction=\"ltr\" style=\"max-width: none; height: 399.5px; color: #000000; background: #ffffff; font-family: Arial; direction: ltr\">\n",
       "<text class=\"displacy-token\" fill=\"currentColor\" text-anchor=\"middle\" y=\"309.5\">\n",
       "    <tspan class=\"displacy-word\" fill=\"currentColor\" x=\"50\">L'</tspan>\n",
       "    <tspan class=\"displacy-tag\" dy=\"2em\" fill=\"currentColor\" x=\"50\">DET</tspan>\n",
       "</text>\n",
       "\n",
       "<text class=\"displacy-token\" fill=\"currentColor\" text-anchor=\"middle\" y=\"309.5\">\n",
       "    <tspan class=\"displacy-word\" fill=\"currentColor\" x=\"225\">abcès</tspan>\n",
       "    <tspan class=\"displacy-tag\" dy=\"2em\" fill=\"currentColor\" x=\"225\">NOUN</tspan>\n",
       "</text>\n",
       "\n",
       "<text class=\"displacy-token\" fill=\"currentColor\" text-anchor=\"middle\" y=\"309.5\">\n",
       "    <tspan class=\"displacy-word\" fill=\"currentColor\" x=\"400\">artificiel</tspan>\n",
       "    <tspan class=\"displacy-tag\" dy=\"2em\" fill=\"currentColor\" x=\"400\">ADJ</tspan>\n",
       "</text>\n",
       "\n",
       "<text class=\"displacy-token\" fill=\"currentColor\" text-anchor=\"middle\" y=\"309.5\">\n",
       "    <tspan class=\"displacy-word\" fill=\"currentColor\" x=\"575\">peut</tspan>\n",
       "    <tspan class=\"displacy-tag\" dy=\"2em\" fill=\"currentColor\" x=\"575\">VERB</tspan>\n",
       "</text>\n",
       "\n",
       "<text class=\"displacy-token\" fill=\"currentColor\" text-anchor=\"middle\" y=\"309.5\">\n",
       "    <tspan class=\"displacy-word\" fill=\"currentColor\" x=\"750\">aussi</tspan>\n",
       "    <tspan class=\"displacy-tag\" dy=\"2em\" fill=\"currentColor\" x=\"750\">ADV</tspan>\n",
       "</text>\n",
       "\n",
       "<text class=\"displacy-token\" fill=\"currentColor\" text-anchor=\"middle\" y=\"309.5\">\n",
       "    <tspan class=\"displacy-word\" fill=\"currentColor\" x=\"925\">être</tspan>\n",
       "    <tspan class=\"displacy-tag\" dy=\"2em\" fill=\"currentColor\" x=\"925\">AUX</tspan>\n",
       "</text>\n",
       "\n",
       "<text class=\"displacy-token\" fill=\"currentColor\" text-anchor=\"middle\" y=\"309.5\">\n",
       "    <tspan class=\"displacy-word\" fill=\"currentColor\" x=\"1100\">désigné</tspan>\n",
       "    <tspan class=\"displacy-tag\" dy=\"2em\" fill=\"currentColor\" x=\"1100\">VERB</tspan>\n",
       "</text>\n",
       "\n",
       "<text class=\"displacy-token\" fill=\"currentColor\" text-anchor=\"middle\" y=\"309.5\">\n",
       "    <tspan class=\"displacy-word\" fill=\"currentColor\" x=\"1275\">par «</tspan>\n",
       "    <tspan class=\"displacy-tag\" dy=\"2em\" fill=\"currentColor\" x=\"1275\">ADP</tspan>\n",
       "</text>\n",
       "\n",
       "<text class=\"displacy-token\" fill=\"currentColor\" text-anchor=\"middle\" y=\"309.5\">\n",
       "    <tspan class=\"displacy-word\" fill=\"currentColor\" x=\"1450\">abcès</tspan>\n",
       "    <tspan class=\"displacy-tag\" dy=\"2em\" fill=\"currentColor\" x=\"1450\">NOUN</tspan>\n",
       "</text>\n",
       "\n",
       "<text class=\"displacy-token\" fill=\"currentColor\" text-anchor=\"middle\" y=\"309.5\">\n",
       "    <tspan class=\"displacy-word\" fill=\"currentColor\" x=\"1625\">de</tspan>\n",
       "    <tspan class=\"displacy-tag\" dy=\"2em\" fill=\"currentColor\" x=\"1625\">ADP</tspan>\n",
       "</text>\n",
       "\n",
       "<text class=\"displacy-token\" fill=\"currentColor\" text-anchor=\"middle\" y=\"309.5\">\n",
       "    <tspan class=\"displacy-word\" fill=\"currentColor\" x=\"1800\">Fochier »</tspan>\n",
       "    <tspan class=\"displacy-tag\" dy=\"2em\" fill=\"currentColor\" x=\"1800\">PROPN</tspan>\n",
       "</text>\n",
       "\n",
       "<text class=\"displacy-token\" fill=\"currentColor\" text-anchor=\"middle\" y=\"309.5\">\n",
       "    <tspan class=\"displacy-word\" fill=\"currentColor\" x=\"1975\">ou</tspan>\n",
       "    <tspan class=\"displacy-tag\" dy=\"2em\" fill=\"currentColor\" x=\"1975\">CCONJ</tspan>\n",
       "</text>\n",
       "\n",
       "<text class=\"displacy-token\" fill=\"currentColor\" text-anchor=\"middle\" y=\"309.5\">\n",
       "    <tspan class=\"displacy-word\" fill=\"currentColor\" x=\"2150\">encore «</tspan>\n",
       "    <tspan class=\"displacy-tag\" dy=\"2em\" fill=\"currentColor\" x=\"2150\">ADV</tspan>\n",
       "</text>\n",
       "\n",
       "<text class=\"displacy-token\" fill=\"currentColor\" text-anchor=\"middle\" y=\"309.5\">\n",
       "    <tspan class=\"displacy-word\" fill=\"currentColor\" x=\"2325\">abcès</tspan>\n",
       "    <tspan class=\"displacy-tag\" dy=\"2em\" fill=\"currentColor\" x=\"2325\">NOUN</tspan>\n",
       "</text>\n",
       "\n",
       "<text class=\"displacy-token\" fill=\"currentColor\" text-anchor=\"middle\" y=\"309.5\">\n",
       "    <tspan class=\"displacy-word\" fill=\"currentColor\" x=\"2500\">de</tspan>\n",
       "    <tspan class=\"displacy-tag\" dy=\"2em\" fill=\"currentColor\" x=\"2500\">ADP</tspan>\n",
       "</text>\n",
       "\n",
       "<text class=\"displacy-token\" fill=\"currentColor\" text-anchor=\"middle\" y=\"309.5\">\n",
       "    <tspan class=\"displacy-word\" fill=\"currentColor\" x=\"2675\">fixation ».</tspan>\n",
       "    <tspan class=\"displacy-tag\" dy=\"2em\" fill=\"currentColor\" x=\"2675\">NOUN</tspan>\n",
       "</text>\n",
       "\n",
       "<g class=\"displacy-arrow\">\n",
       "    <path class=\"displacy-arc\" id=\"arrow-fd206f3a23bf4243ae3d178d79ce467e-0-0\" stroke-width=\"2px\" d=\"M70,264.5 C70,177.0 215.0,177.0 215.0,264.5\" fill=\"none\" stroke=\"currentColor\"/>\n",
       "    <text dy=\"1.25em\" style=\"font-size: 0.8em; letter-spacing: 1px\">\n",
       "        <textPath xlink:href=\"#arrow-fd206f3a23bf4243ae3d178d79ce467e-0-0\" class=\"displacy-label\" startOffset=\"50%\" side=\"left\" fill=\"currentColor\" text-anchor=\"middle\">det</textPath>\n",
       "    </text>\n",
       "    <path class=\"displacy-arrowhead\" d=\"M70,266.5 L62,254.5 78,254.5\" fill=\"currentColor\"/>\n",
       "</g>\n",
       "\n",
       "<g class=\"displacy-arrow\">\n",
       "    <path class=\"displacy-arc\" id=\"arrow-fd206f3a23bf4243ae3d178d79ce467e-0-1\" stroke-width=\"2px\" d=\"M245,264.5 C245,89.5 570.0,89.5 570.0,264.5\" fill=\"none\" stroke=\"currentColor\"/>\n",
       "    <text dy=\"1.25em\" style=\"font-size: 0.8em; letter-spacing: 1px\">\n",
       "        <textPath xlink:href=\"#arrow-fd206f3a23bf4243ae3d178d79ce467e-0-1\" class=\"displacy-label\" startOffset=\"50%\" side=\"left\" fill=\"currentColor\" text-anchor=\"middle\">nsubj</textPath>\n",
       "    </text>\n",
       "    <path class=\"displacy-arrowhead\" d=\"M245,266.5 L237,254.5 253,254.5\" fill=\"currentColor\"/>\n",
       "</g>\n",
       "\n",
       "<g class=\"displacy-arrow\">\n",
       "    <path class=\"displacy-arc\" id=\"arrow-fd206f3a23bf4243ae3d178d79ce467e-0-2\" stroke-width=\"2px\" d=\"M245,264.5 C245,177.0 390.0,177.0 390.0,264.5\" fill=\"none\" stroke=\"currentColor\"/>\n",
       "    <text dy=\"1.25em\" style=\"font-size: 0.8em; letter-spacing: 1px\">\n",
       "        <textPath xlink:href=\"#arrow-fd206f3a23bf4243ae3d178d79ce467e-0-2\" class=\"displacy-label\" startOffset=\"50%\" side=\"left\" fill=\"currentColor\" text-anchor=\"middle\">amod</textPath>\n",
       "    </text>\n",
       "    <path class=\"displacy-arrowhead\" d=\"M390.0,266.5 L398.0,254.5 382.0,254.5\" fill=\"currentColor\"/>\n",
       "</g>\n",
       "\n",
       "<g class=\"displacy-arrow\">\n",
       "    <path class=\"displacy-arc\" id=\"arrow-fd206f3a23bf4243ae3d178d79ce467e-0-3\" stroke-width=\"2px\" d=\"M595,264.5 C595,177.0 740.0,177.0 740.0,264.5\" fill=\"none\" stroke=\"currentColor\"/>\n",
       "    <text dy=\"1.25em\" style=\"font-size: 0.8em; letter-spacing: 1px\">\n",
       "        <textPath xlink:href=\"#arrow-fd206f3a23bf4243ae3d178d79ce467e-0-3\" class=\"displacy-label\" startOffset=\"50%\" side=\"left\" fill=\"currentColor\" text-anchor=\"middle\">advmod</textPath>\n",
       "    </text>\n",
       "    <path class=\"displacy-arrowhead\" d=\"M740.0,266.5 L748.0,254.5 732.0,254.5\" fill=\"currentColor\"/>\n",
       "</g>\n",
       "\n",
       "<g class=\"displacy-arrow\">\n",
       "    <path class=\"displacy-arc\" id=\"arrow-fd206f3a23bf4243ae3d178d79ce467e-0-4\" stroke-width=\"2px\" d=\"M945,264.5 C945,177.0 1090.0,177.0 1090.0,264.5\" fill=\"none\" stroke=\"currentColor\"/>\n",
       "    <text dy=\"1.25em\" style=\"font-size: 0.8em; letter-spacing: 1px\">\n",
       "        <textPath xlink:href=\"#arrow-fd206f3a23bf4243ae3d178d79ce467e-0-4\" class=\"displacy-label\" startOffset=\"50%\" side=\"left\" fill=\"currentColor\" text-anchor=\"middle\">aux:pass</textPath>\n",
       "    </text>\n",
       "    <path class=\"displacy-arrowhead\" d=\"M945,266.5 L937,254.5 953,254.5\" fill=\"currentColor\"/>\n",
       "</g>\n",
       "\n",
       "<g class=\"displacy-arrow\">\n",
       "    <path class=\"displacy-arc\" id=\"arrow-fd206f3a23bf4243ae3d178d79ce467e-0-5\" stroke-width=\"2px\" d=\"M595,264.5 C595,89.5 1095.0,89.5 1095.0,264.5\" fill=\"none\" stroke=\"currentColor\"/>\n",
       "    <text dy=\"1.25em\" style=\"font-size: 0.8em; letter-spacing: 1px\">\n",
       "        <textPath xlink:href=\"#arrow-fd206f3a23bf4243ae3d178d79ce467e-0-5\" class=\"displacy-label\" startOffset=\"50%\" side=\"left\" fill=\"currentColor\" text-anchor=\"middle\">xcomp</textPath>\n",
       "    </text>\n",
       "    <path class=\"displacy-arrowhead\" d=\"M1095.0,266.5 L1103.0,254.5 1087.0,254.5\" fill=\"currentColor\"/>\n",
       "</g>\n",
       "\n",
       "<g class=\"displacy-arrow\">\n",
       "    <path class=\"displacy-arc\" id=\"arrow-fd206f3a23bf4243ae3d178d79ce467e-0-6\" stroke-width=\"2px\" d=\"M1295,264.5 C1295,177.0 1440.0,177.0 1440.0,264.5\" fill=\"none\" stroke=\"currentColor\"/>\n",
       "    <text dy=\"1.25em\" style=\"font-size: 0.8em; letter-spacing: 1px\">\n",
       "        <textPath xlink:href=\"#arrow-fd206f3a23bf4243ae3d178d79ce467e-0-6\" class=\"displacy-label\" startOffset=\"50%\" side=\"left\" fill=\"currentColor\" text-anchor=\"middle\">case</textPath>\n",
       "    </text>\n",
       "    <path class=\"displacy-arrowhead\" d=\"M1295,266.5 L1287,254.5 1303,254.5\" fill=\"currentColor\"/>\n",
       "</g>\n",
       "\n",
       "<g class=\"displacy-arrow\">\n",
       "    <path class=\"displacy-arc\" id=\"arrow-fd206f3a23bf4243ae3d178d79ce467e-0-7\" stroke-width=\"2px\" d=\"M1120,264.5 C1120,89.5 1445.0,89.5 1445.0,264.5\" fill=\"none\" stroke=\"currentColor\"/>\n",
       "    <text dy=\"1.25em\" style=\"font-size: 0.8em; letter-spacing: 1px\">\n",
       "        <textPath xlink:href=\"#arrow-fd206f3a23bf4243ae3d178d79ce467e-0-7\" class=\"displacy-label\" startOffset=\"50%\" side=\"left\" fill=\"currentColor\" text-anchor=\"middle\">obl:agent</textPath>\n",
       "    </text>\n",
       "    <path class=\"displacy-arrowhead\" d=\"M1445.0,266.5 L1453.0,254.5 1437.0,254.5\" fill=\"currentColor\"/>\n",
       "</g>\n",
       "\n",
       "<g class=\"displacy-arrow\">\n",
       "    <path class=\"displacy-arc\" id=\"arrow-fd206f3a23bf4243ae3d178d79ce467e-0-8\" stroke-width=\"2px\" d=\"M1645,264.5 C1645,177.0 1790.0,177.0 1790.0,264.5\" fill=\"none\" stroke=\"currentColor\"/>\n",
       "    <text dy=\"1.25em\" style=\"font-size: 0.8em; letter-spacing: 1px\">\n",
       "        <textPath xlink:href=\"#arrow-fd206f3a23bf4243ae3d178d79ce467e-0-8\" class=\"displacy-label\" startOffset=\"50%\" side=\"left\" fill=\"currentColor\" text-anchor=\"middle\">case</textPath>\n",
       "    </text>\n",
       "    <path class=\"displacy-arrowhead\" d=\"M1645,266.5 L1637,254.5 1653,254.5\" fill=\"currentColor\"/>\n",
       "</g>\n",
       "\n",
       "<g class=\"displacy-arrow\">\n",
       "    <path class=\"displacy-arc\" id=\"arrow-fd206f3a23bf4243ae3d178d79ce467e-0-9\" stroke-width=\"2px\" d=\"M1470,264.5 C1470,89.5 1795.0,89.5 1795.0,264.5\" fill=\"none\" stroke=\"currentColor\"/>\n",
       "    <text dy=\"1.25em\" style=\"font-size: 0.8em; letter-spacing: 1px\">\n",
       "        <textPath xlink:href=\"#arrow-fd206f3a23bf4243ae3d178d79ce467e-0-9\" class=\"displacy-label\" startOffset=\"50%\" side=\"left\" fill=\"currentColor\" text-anchor=\"middle\">nmod</textPath>\n",
       "    </text>\n",
       "    <path class=\"displacy-arrowhead\" d=\"M1795.0,266.5 L1803.0,254.5 1787.0,254.5\" fill=\"currentColor\"/>\n",
       "</g>\n",
       "\n",
       "<g class=\"displacy-arrow\">\n",
       "    <path class=\"displacy-arc\" id=\"arrow-fd206f3a23bf4243ae3d178d79ce467e-0-10\" stroke-width=\"2px\" d=\"M1995,264.5 C1995,89.5 2320.0,89.5 2320.0,264.5\" fill=\"none\" stroke=\"currentColor\"/>\n",
       "    <text dy=\"1.25em\" style=\"font-size: 0.8em; letter-spacing: 1px\">\n",
       "        <textPath xlink:href=\"#arrow-fd206f3a23bf4243ae3d178d79ce467e-0-10\" class=\"displacy-label\" startOffset=\"50%\" side=\"left\" fill=\"currentColor\" text-anchor=\"middle\">cc</textPath>\n",
       "    </text>\n",
       "    <path class=\"displacy-arrowhead\" d=\"M1995,266.5 L1987,254.5 2003,254.5\" fill=\"currentColor\"/>\n",
       "</g>\n",
       "\n",
       "<g class=\"displacy-arrow\">\n",
       "    <path class=\"displacy-arc\" id=\"arrow-fd206f3a23bf4243ae3d178d79ce467e-0-11\" stroke-width=\"2px\" d=\"M2170,264.5 C2170,177.0 2315.0,177.0 2315.0,264.5\" fill=\"none\" stroke=\"currentColor\"/>\n",
       "    <text dy=\"1.25em\" style=\"font-size: 0.8em; letter-spacing: 1px\">\n",
       "        <textPath xlink:href=\"#arrow-fd206f3a23bf4243ae3d178d79ce467e-0-11\" class=\"displacy-label\" startOffset=\"50%\" side=\"left\" fill=\"currentColor\" text-anchor=\"middle\">advmod</textPath>\n",
       "    </text>\n",
       "    <path class=\"displacy-arrowhead\" d=\"M2170,266.5 L2162,254.5 2178,254.5\" fill=\"currentColor\"/>\n",
       "</g>\n",
       "\n",
       "<g class=\"displacy-arrow\">\n",
       "    <path class=\"displacy-arc\" id=\"arrow-fd206f3a23bf4243ae3d178d79ce467e-0-12\" stroke-width=\"2px\" d=\"M1120,264.5 C1120,2.0 2325.0,2.0 2325.0,264.5\" fill=\"none\" stroke=\"currentColor\"/>\n",
       "    <text dy=\"1.25em\" style=\"font-size: 0.8em; letter-spacing: 1px\">\n",
       "        <textPath xlink:href=\"#arrow-fd206f3a23bf4243ae3d178d79ce467e-0-12\" class=\"displacy-label\" startOffset=\"50%\" side=\"left\" fill=\"currentColor\" text-anchor=\"middle\">conj</textPath>\n",
       "    </text>\n",
       "    <path class=\"displacy-arrowhead\" d=\"M2325.0,266.5 L2333.0,254.5 2317.0,254.5\" fill=\"currentColor\"/>\n",
       "</g>\n",
       "\n",
       "<g class=\"displacy-arrow\">\n",
       "    <path class=\"displacy-arc\" id=\"arrow-fd206f3a23bf4243ae3d178d79ce467e-0-13\" stroke-width=\"2px\" d=\"M2520,264.5 C2520,177.0 2665.0,177.0 2665.0,264.5\" fill=\"none\" stroke=\"currentColor\"/>\n",
       "    <text dy=\"1.25em\" style=\"font-size: 0.8em; letter-spacing: 1px\">\n",
       "        <textPath xlink:href=\"#arrow-fd206f3a23bf4243ae3d178d79ce467e-0-13\" class=\"displacy-label\" startOffset=\"50%\" side=\"left\" fill=\"currentColor\" text-anchor=\"middle\">case</textPath>\n",
       "    </text>\n",
       "    <path class=\"displacy-arrowhead\" d=\"M2520,266.5 L2512,254.5 2528,254.5\" fill=\"currentColor\"/>\n",
       "</g>\n",
       "\n",
       "<g class=\"displacy-arrow\">\n",
       "    <path class=\"displacy-arc\" id=\"arrow-fd206f3a23bf4243ae3d178d79ce467e-0-14\" stroke-width=\"2px\" d=\"M2345,264.5 C2345,89.5 2670.0,89.5 2670.0,264.5\" fill=\"none\" stroke=\"currentColor\"/>\n",
       "    <text dy=\"1.25em\" style=\"font-size: 0.8em; letter-spacing: 1px\">\n",
       "        <textPath xlink:href=\"#arrow-fd206f3a23bf4243ae3d178d79ce467e-0-14\" class=\"displacy-label\" startOffset=\"50%\" side=\"left\" fill=\"currentColor\" text-anchor=\"middle\">nmod</textPath>\n",
       "    </text>\n",
       "    <path class=\"displacy-arrowhead\" d=\"M2670.0,266.5 L2678.0,254.5 2662.0,254.5\" fill=\"currentColor\"/>\n",
       "</g>\n",
       "</svg></span>"
      ],
      "text/plain": [
       "<IPython.core.display.HTML object>"
      ]
     },
     "metadata": {},
     "output_type": "display_data"
    },
    {
     "data": {
      "text/html": [
       "<pre style=\"white-space:pre;overflow-x:auto;line-height:normal;font-family:Menlo,'DejaVu Sans Mono',consolas,'Courier New',monospace\"><span style=\"color: #008000; text-decoration-color: #008000; font-weight: bold\">L'abcès artificiel peut aussi être désigné par « abcès de Fochier » ou encore « abcès de fixation ».</span>\n",
       "</pre>\n"
      ],
      "text/plain": [
       "\u001b[1;32mL'abcès artificiel peut aussi être désigné par « abcès de Fochier » ou encore « abcès de fixation ».\u001b[0m\n"
      ]
     },
     "metadata": {},
     "output_type": "display_data"
    },
    {
     "data": {
      "text/html": [
       "<pre style=\"white-space:pre;overflow-x:auto;line-height:normal;font-family:Menlo,'DejaVu Sans Mono',consolas,'Courier New',monospace\"><span style=\"color: #800080; text-decoration-color: #800080; font-weight: bold\">Dependency</span><span style=\"font-weight: bold\">(</span>\n",
       "    <span style=\"color: #808000; text-decoration-color: #808000\">token</span>=<span style=\"color: #800080; text-decoration-color: #800080\">peut</span>,\n",
       "    <span style=\"color: #808000; text-decoration-color: #808000\">head</span>=<span style=\"color: #800080; text-decoration-color: #800080; font-style: italic\">None</span>,\n",
       "    <span style=\"color: #808000; text-decoration-color: #808000\">children</span>=<span style=\"font-weight: bold\">{</span>\n",
       "        <span style=\"color: #008000; text-decoration-color: #008000\">'nsubj'</span>: <span style=\"font-weight: bold\">[</span>\n",
       "            <span style=\"color: #800080; text-decoration-color: #800080; font-weight: bold\">Dependency</span><span style=\"font-weight: bold\">(</span>\n",
       "                <span style=\"color: #808000; text-decoration-color: #808000\">token</span>=<span style=\"color: #800080; text-decoration-color: #800080\">abcès</span>,\n",
       "                <span style=\"color: #808000; text-decoration-color: #808000\">head</span>=<span style=\"color: #808000; text-decoration-color: #808000\">...</span>,\n",
       "                <span style=\"color: #808000; text-decoration-color: #808000\">children</span>=<span style=\"font-weight: bold\">{</span><span style=\"color: #008000; text-decoration-color: #008000\">'amod'</span>: <span style=\"font-weight: bold\">[</span><span style=\"color: #800080; text-decoration-color: #800080; font-weight: bold\">Dependency</span><span style=\"font-weight: bold\">(</span><span style=\"color: #808000; text-decoration-color: #808000\">token</span>=<span style=\"color: #800080; text-decoration-color: #800080\">artificiel</span>, <span style=\"color: #808000; text-decoration-color: #808000\">head</span>=<span style=\"color: #808000; text-decoration-color: #808000\">...</span>, <span style=\"color: #808000; text-decoration-color: #808000\">children</span>=<span style=\"font-weight: bold\">{})]}</span>\n",
       "            <span style=\"font-weight: bold\">)</span>\n",
       "        <span style=\"font-weight: bold\">]</span>,\n",
       "        <span style=\"color: #008000; text-decoration-color: #008000\">'advmod'</span>: <span style=\"font-weight: bold\">[</span><span style=\"color: #800080; text-decoration-color: #800080; font-weight: bold\">Dependency</span><span style=\"font-weight: bold\">(</span><span style=\"color: #808000; text-decoration-color: #808000\">token</span>=<span style=\"color: #800080; text-decoration-color: #800080\">aussi</span>, <span style=\"color: #808000; text-decoration-color: #808000\">head</span>=<span style=\"color: #808000; text-decoration-color: #808000\">...</span>, <span style=\"color: #808000; text-decoration-color: #808000\">children</span>=<span style=\"font-weight: bold\">{})]</span>,\n",
       "        <span style=\"color: #008000; text-decoration-color: #008000\">'xcomp'</span>: <span style=\"font-weight: bold\">[</span>\n",
       "            <span style=\"color: #800080; text-decoration-color: #800080; font-weight: bold\">Dependency</span><span style=\"font-weight: bold\">(</span>\n",
       "                <span style=\"color: #808000; text-decoration-color: #808000\">token</span>=<span style=\"color: #800080; text-decoration-color: #800080\">désigné</span>,\n",
       "                <span style=\"color: #808000; text-decoration-color: #808000\">head</span>=<span style=\"color: #808000; text-decoration-color: #808000\">...</span>,\n",
       "                <span style=\"color: #808000; text-decoration-color: #808000\">children</span>=<span style=\"font-weight: bold\">{</span>\n",
       "                    <span style=\"color: #008000; text-decoration-color: #008000\">'aux:pass'</span>: <span style=\"font-weight: bold\">[</span><span style=\"color: #800080; text-decoration-color: #800080; font-weight: bold\">Dependency</span><span style=\"font-weight: bold\">(</span><span style=\"color: #808000; text-decoration-color: #808000\">token</span>=<span style=\"color: #800080; text-decoration-color: #800080\">être</span>, <span style=\"color: #808000; text-decoration-color: #808000\">head</span>=<span style=\"color: #808000; text-decoration-color: #808000\">...</span>, <span style=\"color: #808000; text-decoration-color: #808000\">children</span>=<span style=\"font-weight: bold\">{})]</span>,\n",
       "                    <span style=\"color: #008000; text-decoration-color: #008000\">'obl:agent'</span>: <span style=\"font-weight: bold\">[</span>\n",
       "                        <span style=\"color: #800080; text-decoration-color: #800080; font-weight: bold\">Dependency</span><span style=\"font-weight: bold\">(</span>\n",
       "                            <span style=\"color: #808000; text-decoration-color: #808000\">token</span>=<span style=\"color: #800080; text-decoration-color: #800080\">abcès</span>,\n",
       "                            <span style=\"color: #808000; text-decoration-color: #808000\">head</span>=<span style=\"color: #808000; text-decoration-color: #808000\">...</span>,\n",
       "                            <span style=\"color: #808000; text-decoration-color: #808000\">children</span>=<span style=\"font-weight: bold\">{</span>\n",
       "                                <span style=\"color: #008000; text-decoration-color: #008000\">'case'</span>: <span style=\"font-weight: bold\">[</span><span style=\"color: #800080; text-decoration-color: #800080; font-weight: bold\">Dependency</span><span style=\"font-weight: bold\">(</span><span style=\"color: #808000; text-decoration-color: #808000\">token</span>=<span style=\"color: #800080; text-decoration-color: #800080\">par</span>, <span style=\"color: #808000; text-decoration-color: #808000\">head</span>=<span style=\"color: #808000; text-decoration-color: #808000\">...</span>, <span style=\"color: #808000; text-decoration-color: #808000\">children</span>=<span style=\"font-weight: bold\">{})]</span>,\n",
       "                                <span style=\"color: #008000; text-decoration-color: #008000\">'nmod'</span>: <span style=\"font-weight: bold\">[</span>\n",
       "                                    <span style=\"color: #800080; text-decoration-color: #800080; font-weight: bold\">Dependency</span><span style=\"font-weight: bold\">(</span>\n",
       "                                        <span style=\"color: #808000; text-decoration-color: #808000\">token</span>=<span style=\"color: #800080; text-decoration-color: #800080\">Fochier</span>,\n",
       "                                        <span style=\"color: #808000; text-decoration-color: #808000\">head</span>=<span style=\"color: #808000; text-decoration-color: #808000\">...</span>,\n",
       "                                        <span style=\"color: #808000; text-decoration-color: #808000\">children</span>=<span style=\"font-weight: bold\">{</span><span style=\"color: #008000; text-decoration-color: #008000\">'case'</span>: <span style=\"font-weight: bold\">[</span><span style=\"color: #800080; text-decoration-color: #800080; font-weight: bold\">Dependency</span><span style=\"font-weight: bold\">(</span><span style=\"color: #808000; text-decoration-color: #808000\">token</span>=<span style=\"color: #800080; text-decoration-color: #800080\">de</span>, <span style=\"color: #808000; text-decoration-color: #808000\">head</span>=<span style=\"color: #808000; text-decoration-color: #808000\">...</span>, <span style=\"color: #808000; text-decoration-color: #808000\">children</span>=<span style=\"font-weight: bold\">{})]}</span>\n",
       "                                    <span style=\"font-weight: bold\">)</span>\n",
       "                                <span style=\"font-weight: bold\">]</span>\n",
       "                            <span style=\"font-weight: bold\">}</span>\n",
       "                        <span style=\"font-weight: bold\">)</span>\n",
       "                    <span style=\"font-weight: bold\">]</span>,\n",
       "                    <span style=\"color: #008000; text-decoration-color: #008000\">'conj'</span>: <span style=\"font-weight: bold\">[</span>\n",
       "                        <span style=\"color: #800080; text-decoration-color: #800080; font-weight: bold\">Dependency</span><span style=\"font-weight: bold\">(</span>\n",
       "                            <span style=\"color: #808000; text-decoration-color: #808000\">token</span>=<span style=\"color: #800080; text-decoration-color: #800080\">abcès</span>,\n",
       "                            <span style=\"color: #808000; text-decoration-color: #808000\">head</span>=<span style=\"color: #808000; text-decoration-color: #808000\">...</span>,\n",
       "                            <span style=\"color: #808000; text-decoration-color: #808000\">children</span>=<span style=\"font-weight: bold\">{</span>\n",
       "                                <span style=\"color: #008000; text-decoration-color: #008000\">'cc'</span>: <span style=\"font-weight: bold\">[</span><span style=\"color: #800080; text-decoration-color: #800080; font-weight: bold\">Dependency</span><span style=\"font-weight: bold\">(</span><span style=\"color: #808000; text-decoration-color: #808000\">token</span>=<span style=\"color: #800080; text-decoration-color: #800080\">ou</span>, <span style=\"color: #808000; text-decoration-color: #808000\">head</span>=<span style=\"color: #808000; text-decoration-color: #808000\">...</span>, <span style=\"color: #808000; text-decoration-color: #808000\">children</span>=<span style=\"font-weight: bold\">{})]</span>,\n",
       "                                <span style=\"color: #008000; text-decoration-color: #008000\">'advmod'</span>: <span style=\"font-weight: bold\">[</span><span style=\"color: #800080; text-decoration-color: #800080; font-weight: bold\">Dependency</span><span style=\"font-weight: bold\">(</span><span style=\"color: #808000; text-decoration-color: #808000\">token</span>=<span style=\"color: #800080; text-decoration-color: #800080\">encore</span>, <span style=\"color: #808000; text-decoration-color: #808000\">head</span>=<span style=\"color: #808000; text-decoration-color: #808000\">...</span>, <span style=\"color: #808000; text-decoration-color: #808000\">children</span>=<span style=\"font-weight: bold\">{})]</span>,\n",
       "                                <span style=\"color: #008000; text-decoration-color: #008000\">'nmod'</span>: <span style=\"font-weight: bold\">[</span>\n",
       "                                    <span style=\"color: #800080; text-decoration-color: #800080; font-weight: bold\">Dependency</span><span style=\"font-weight: bold\">(</span>\n",
       "                                        <span style=\"color: #808000; text-decoration-color: #808000\">token</span>=<span style=\"color: #800080; text-decoration-color: #800080\">fixation</span>,\n",
       "                                        <span style=\"color: #808000; text-decoration-color: #808000\">head</span>=<span style=\"color: #808000; text-decoration-color: #808000\">...</span>,\n",
       "                                        <span style=\"color: #808000; text-decoration-color: #808000\">children</span>=<span style=\"font-weight: bold\">{</span><span style=\"color: #008000; text-decoration-color: #008000\">'case'</span>: <span style=\"font-weight: bold\">[</span><span style=\"color: #800080; text-decoration-color: #800080; font-weight: bold\">Dependency</span><span style=\"font-weight: bold\">(</span><span style=\"color: #808000; text-decoration-color: #808000\">token</span>=<span style=\"color: #800080; text-decoration-color: #800080\">de</span>, <span style=\"color: #808000; text-decoration-color: #808000\">head</span>=<span style=\"color: #808000; text-decoration-color: #808000\">...</span>, <span style=\"color: #808000; text-decoration-color: #808000\">children</span>=<span style=\"font-weight: bold\">{})]}</span>\n",
       "                                    <span style=\"font-weight: bold\">)</span>\n",
       "                                <span style=\"font-weight: bold\">]</span>\n",
       "                            <span style=\"font-weight: bold\">}</span>\n",
       "                        <span style=\"font-weight: bold\">)</span>\n",
       "                    <span style=\"font-weight: bold\">]</span>\n",
       "                <span style=\"font-weight: bold\">}</span>\n",
       "            <span style=\"font-weight: bold\">)</span>\n",
       "        <span style=\"font-weight: bold\">]</span>\n",
       "    <span style=\"font-weight: bold\">}</span>\n",
       "<span style=\"font-weight: bold\">)</span>\n",
       "</pre>\n"
      ],
      "text/plain": [
       "\u001b[1;35mDependency\u001b[0m\u001b[1m(\u001b[0m\n",
       "    \u001b[33mtoken\u001b[0m=\u001b[35mpeut\u001b[0m,\n",
       "    \u001b[33mhead\u001b[0m=\u001b[3;35mNone\u001b[0m,\n",
       "    \u001b[33mchildren\u001b[0m=\u001b[1m{\u001b[0m\n",
       "        \u001b[32m'nsubj'\u001b[0m: \u001b[1m[\u001b[0m\n",
       "            \u001b[1;35mDependency\u001b[0m\u001b[1m(\u001b[0m\n",
       "                \u001b[33mtoken\u001b[0m=\u001b[35mabcès\u001b[0m,\n",
       "                \u001b[33mhead\u001b[0m=\u001b[33m...\u001b[0m,\n",
       "                \u001b[33mchildren\u001b[0m=\u001b[1m{\u001b[0m\u001b[32m'amod'\u001b[0m: \u001b[1m[\u001b[0m\u001b[1;35mDependency\u001b[0m\u001b[1m(\u001b[0m\u001b[33mtoken\u001b[0m=\u001b[35martificiel\u001b[0m, \u001b[33mhead\u001b[0m=\u001b[33m...\u001b[0m, \u001b[33mchildren\u001b[0m=\u001b[1m{\u001b[0m\u001b[1m}\u001b[0m\u001b[1m)\u001b[0m\u001b[1m]\u001b[0m\u001b[1m}\u001b[0m\n",
       "            \u001b[1m)\u001b[0m\n",
       "        \u001b[1m]\u001b[0m,\n",
       "        \u001b[32m'advmod'\u001b[0m: \u001b[1m[\u001b[0m\u001b[1;35mDependency\u001b[0m\u001b[1m(\u001b[0m\u001b[33mtoken\u001b[0m=\u001b[35maussi\u001b[0m, \u001b[33mhead\u001b[0m=\u001b[33m...\u001b[0m, \u001b[33mchildren\u001b[0m=\u001b[1m{\u001b[0m\u001b[1m}\u001b[0m\u001b[1m)\u001b[0m\u001b[1m]\u001b[0m,\n",
       "        \u001b[32m'xcomp'\u001b[0m: \u001b[1m[\u001b[0m\n",
       "            \u001b[1;35mDependency\u001b[0m\u001b[1m(\u001b[0m\n",
       "                \u001b[33mtoken\u001b[0m=\u001b[35mdésigné\u001b[0m,\n",
       "                \u001b[33mhead\u001b[0m=\u001b[33m...\u001b[0m,\n",
       "                \u001b[33mchildren\u001b[0m=\u001b[1m{\u001b[0m\n",
       "                    \u001b[32m'aux:pass'\u001b[0m: \u001b[1m[\u001b[0m\u001b[1;35mDependency\u001b[0m\u001b[1m(\u001b[0m\u001b[33mtoken\u001b[0m=\u001b[35mêtre\u001b[0m, \u001b[33mhead\u001b[0m=\u001b[33m...\u001b[0m, \u001b[33mchildren\u001b[0m=\u001b[1m{\u001b[0m\u001b[1m}\u001b[0m\u001b[1m)\u001b[0m\u001b[1m]\u001b[0m,\n",
       "                    \u001b[32m'obl:agent'\u001b[0m: \u001b[1m[\u001b[0m\n",
       "                        \u001b[1;35mDependency\u001b[0m\u001b[1m(\u001b[0m\n",
       "                            \u001b[33mtoken\u001b[0m=\u001b[35mabcès\u001b[0m,\n",
       "                            \u001b[33mhead\u001b[0m=\u001b[33m...\u001b[0m,\n",
       "                            \u001b[33mchildren\u001b[0m=\u001b[1m{\u001b[0m\n",
       "                                \u001b[32m'case'\u001b[0m: \u001b[1m[\u001b[0m\u001b[1;35mDependency\u001b[0m\u001b[1m(\u001b[0m\u001b[33mtoken\u001b[0m=\u001b[35mpar\u001b[0m, \u001b[33mhead\u001b[0m=\u001b[33m...\u001b[0m, \u001b[33mchildren\u001b[0m=\u001b[1m{\u001b[0m\u001b[1m}\u001b[0m\u001b[1m)\u001b[0m\u001b[1m]\u001b[0m,\n",
       "                                \u001b[32m'nmod'\u001b[0m: \u001b[1m[\u001b[0m\n",
       "                                    \u001b[1;35mDependency\u001b[0m\u001b[1m(\u001b[0m\n",
       "                                        \u001b[33mtoken\u001b[0m=\u001b[35mFochier\u001b[0m,\n",
       "                                        \u001b[33mhead\u001b[0m=\u001b[33m...\u001b[0m,\n",
       "                                        \u001b[33mchildren\u001b[0m=\u001b[1m{\u001b[0m\u001b[32m'case'\u001b[0m: \u001b[1m[\u001b[0m\u001b[1;35mDependency\u001b[0m\u001b[1m(\u001b[0m\u001b[33mtoken\u001b[0m=\u001b[35mde\u001b[0m, \u001b[33mhead\u001b[0m=\u001b[33m...\u001b[0m, \u001b[33mchildren\u001b[0m=\u001b[1m{\u001b[0m\u001b[1m}\u001b[0m\u001b[1m)\u001b[0m\u001b[1m]\u001b[0m\u001b[1m}\u001b[0m\n",
       "                                    \u001b[1m)\u001b[0m\n",
       "                                \u001b[1m]\u001b[0m\n",
       "                            \u001b[1m}\u001b[0m\n",
       "                        \u001b[1m)\u001b[0m\n",
       "                    \u001b[1m]\u001b[0m,\n",
       "                    \u001b[32m'conj'\u001b[0m: \u001b[1m[\u001b[0m\n",
       "                        \u001b[1;35mDependency\u001b[0m\u001b[1m(\u001b[0m\n",
       "                            \u001b[33mtoken\u001b[0m=\u001b[35mabcès\u001b[0m,\n",
       "                            \u001b[33mhead\u001b[0m=\u001b[33m...\u001b[0m,\n",
       "                            \u001b[33mchildren\u001b[0m=\u001b[1m{\u001b[0m\n",
       "                                \u001b[32m'cc'\u001b[0m: \u001b[1m[\u001b[0m\u001b[1;35mDependency\u001b[0m\u001b[1m(\u001b[0m\u001b[33mtoken\u001b[0m=\u001b[35mou\u001b[0m, \u001b[33mhead\u001b[0m=\u001b[33m...\u001b[0m, \u001b[33mchildren\u001b[0m=\u001b[1m{\u001b[0m\u001b[1m}\u001b[0m\u001b[1m)\u001b[0m\u001b[1m]\u001b[0m,\n",
       "                                \u001b[32m'advmod'\u001b[0m: \u001b[1m[\u001b[0m\u001b[1;35mDependency\u001b[0m\u001b[1m(\u001b[0m\u001b[33mtoken\u001b[0m=\u001b[35mencore\u001b[0m, \u001b[33mhead\u001b[0m=\u001b[33m...\u001b[0m, \u001b[33mchildren\u001b[0m=\u001b[1m{\u001b[0m\u001b[1m}\u001b[0m\u001b[1m)\u001b[0m\u001b[1m]\u001b[0m,\n",
       "                                \u001b[32m'nmod'\u001b[0m: \u001b[1m[\u001b[0m\n",
       "                                    \u001b[1;35mDependency\u001b[0m\u001b[1m(\u001b[0m\n",
       "                                        \u001b[33mtoken\u001b[0m=\u001b[35mfixation\u001b[0m,\n",
       "                                        \u001b[33mhead\u001b[0m=\u001b[33m...\u001b[0m,\n",
       "                                        \u001b[33mchildren\u001b[0m=\u001b[1m{\u001b[0m\u001b[32m'case'\u001b[0m: \u001b[1m[\u001b[0m\u001b[1;35mDependency\u001b[0m\u001b[1m(\u001b[0m\u001b[33mtoken\u001b[0m=\u001b[35mde\u001b[0m, \u001b[33mhead\u001b[0m=\u001b[33m...\u001b[0m, \u001b[33mchildren\u001b[0m=\u001b[1m{\u001b[0m\u001b[1m}\u001b[0m\u001b[1m)\u001b[0m\u001b[1m]\u001b[0m\u001b[1m}\u001b[0m\n",
       "                                    \u001b[1m)\u001b[0m\n",
       "                                \u001b[1m]\u001b[0m\n",
       "                            \u001b[1m}\u001b[0m\n",
       "                        \u001b[1m)\u001b[0m\n",
       "                    \u001b[1m]\u001b[0m\n",
       "                \u001b[1m}\u001b[0m\n",
       "            \u001b[1m)\u001b[0m\n",
       "        \u001b[1m]\u001b[0m\n",
       "    \u001b[1m}\u001b[0m\n",
       "\u001b[1m)\u001b[0m\n"
      ]
     },
     "metadata": {},
     "output_type": "display_data"
    },
    {
     "data": {
      "text/html": [
       "<pre style=\"white-space:pre;overflow-x:auto;line-height:normal;font-family:Menlo,'DejaVu Sans Mono',consolas,'Courier New',monospace\">abcès artificiel → r_syn → abcès Fochier\n",
       "</pre>\n"
      ],
      "text/plain": [
       "abcès artificiel → r_syn → abcès Fochier\n"
      ]
     },
     "metadata": {},
     "output_type": "display_data"
    },
    {
     "data": {
      "text/html": [
       "<pre style=\"white-space:pre;overflow-x:auto;line-height:normal;font-family:Menlo,'DejaVu Sans Mono',consolas,'Courier New',monospace\">abcès artificiel → r_syn → abcès Fochier\n",
       "</pre>\n"
      ],
      "text/plain": [
       "abcès artificiel → r_syn → abcès Fochier\n"
      ]
     },
     "metadata": {},
     "output_type": "display_data"
    },
    {
     "data": {
      "text/html": [
       "<pre style=\"white-space:pre;overflow-x:auto;line-height:normal;font-family:Menlo,'DejaVu Sans Mono',consolas,'Courier New',monospace\">abcès artificiel → r_syn → abcès Fochier\n",
       "</pre>\n"
      ],
      "text/plain": [
       "abcès artificiel → r_syn → abcès Fochier\n"
      ]
     },
     "metadata": {},
     "output_type": "display_data"
    },
    {
     "data": {
      "text/html": [
       "<pre style=\"white-space:pre;overflow-x:auto;line-height:normal;font-family:Menlo,'DejaVu Sans Mono',consolas,'Courier New',monospace\">abcès artificiel → r_syn → abcès Fochier\n",
       "</pre>\n"
      ],
      "text/plain": [
       "abcès artificiel → r_syn → abcès Fochier\n"
      ]
     },
     "metadata": {},
     "output_type": "display_data"
    },
    {
     "data": {
      "text/html": [
       "<pre style=\"white-space:pre;overflow-x:auto;line-height:normal;font-family:Menlo,'DejaVu Sans Mono',consolas,'Courier New',monospace\">abcès artificiel → r_syn → abcès Fochier\n",
       "</pre>\n"
      ],
      "text/plain": [
       "abcès artificiel → r_syn → abcès Fochier\n"
      ]
     },
     "metadata": {},
     "output_type": "display_data"
    },
    {
     "data": {
      "text/html": [
       "<pre style=\"white-space:pre;overflow-x:auto;line-height:normal;font-family:Menlo,'DejaVu Sans Mono',consolas,'Courier New',monospace\">abcès artificiel → r_syn → abcès Fochier\n",
       "</pre>\n"
      ],
      "text/plain": [
       "abcès artificiel → r_syn → abcès Fochier\n"
      ]
     },
     "metadata": {},
     "output_type": "display_data"
    },
    {
     "data": {
      "text/html": [
       "<pre style=\"white-space:pre;overflow-x:auto;line-height:normal;font-family:Menlo,'DejaVu Sans Mono',consolas,'Courier New',monospace\">abcès artificiel → r_syn → abcès Fochier\n",
       "</pre>\n"
      ],
      "text/plain": [
       "abcès artificiel → r_syn → abcès Fochier\n"
      ]
     },
     "metadata": {},
     "output_type": "display_data"
    },
    {
     "data": {
      "text/html": [
       "<pre style=\"white-space:pre;overflow-x:auto;line-height:normal;font-family:Menlo,'DejaVu Sans Mono',consolas,'Courier New',monospace\">abcès artificiel → r_syn → abcès Fochier\n",
       "</pre>\n"
      ],
      "text/plain": [
       "abcès artificiel → r_syn → abcès Fochier\n"
      ]
     },
     "metadata": {},
     "output_type": "display_data"
    },
    {
     "data": {
      "text/html": [
       "<pre style=\"white-space:pre;overflow-x:auto;line-height:normal;font-family:Menlo,'DejaVu Sans Mono',consolas,'Courier New',monospace\">abcès artificiel → r_syn → abcès Fochier\n",
       "</pre>\n"
      ],
      "text/plain": [
       "abcès artificiel → r_syn → abcès Fochier\n"
      ]
     },
     "metadata": {},
     "output_type": "display_data"
    },
    {
     "data": {
      "text/html": [
       "<pre style=\"white-space:pre;overflow-x:auto;line-height:normal;font-family:Menlo,'DejaVu Sans Mono',consolas,'Courier New',monospace\">abcès artificiel → r_syn → abcès Fochier\n",
       "</pre>\n"
      ],
      "text/plain": [
       "abcès artificiel → r_syn → abcès Fochier\n"
      ]
     },
     "metadata": {},
     "output_type": "display_data"
    },
    {
     "data": {
      "text/html": [
       "<pre style=\"white-space:pre;overflow-x:auto;line-height:normal;font-family:Menlo,'DejaVu Sans Mono',consolas,'Courier New',monospace\">abcès artificiel → r_syn → abcès Fochier\n",
       "</pre>\n"
      ],
      "text/plain": [
       "abcès artificiel → r_syn → abcès Fochier\n"
      ]
     },
     "metadata": {},
     "output_type": "display_data"
    },
    {
     "data": {
      "text/html": [
       "<pre style=\"white-space:pre;overflow-x:auto;line-height:normal;font-family:Menlo,'DejaVu Sans Mono',consolas,'Courier New',monospace\">abcès artificiel → r_syn → abcès Fochier\n",
       "</pre>\n"
      ],
      "text/plain": [
       "abcès artificiel → r_syn → abcès Fochier\n"
      ]
     },
     "metadata": {},
     "output_type": "display_data"
    },
    {
     "data": {
      "text/html": [
       "<pre style=\"white-space:pre;overflow-x:auto;line-height:normal;font-family:Menlo,'DejaVu Sans Mono',consolas,'Courier New',monospace\">abcès artificiel → r_syn → abcès Fochier\n",
       "</pre>\n"
      ],
      "text/plain": [
       "abcès artificiel → r_syn → abcès Fochier\n"
      ]
     },
     "metadata": {},
     "output_type": "display_data"
    },
    {
     "data": {
      "text/html": [
       "<pre style=\"white-space:pre;overflow-x:auto;line-height:normal;font-family:Menlo,'DejaVu Sans Mono',consolas,'Courier New',monospace\">abcès artificiel → r_syn → abcès Fochier\n",
       "</pre>\n"
      ],
      "text/plain": [
       "abcès artificiel → r_syn → abcès Fochier\n"
      ]
     },
     "metadata": {},
     "output_type": "display_data"
    },
    {
     "data": {
      "text/html": [
       "<pre style=\"white-space:pre;overflow-x:auto;line-height:normal;font-family:Menlo,'DejaVu Sans Mono',consolas,'Courier New',monospace\">abcès artificiel → r_syn → abcès Fochier\n",
       "</pre>\n"
      ],
      "text/plain": [
       "abcès artificiel → r_syn → abcès Fochier\n"
      ]
     },
     "metadata": {},
     "output_type": "display_data"
    },
    {
     "data": {
      "text/html": [
       "<pre style=\"white-space:pre;overflow-x:auto;line-height:normal;font-family:Menlo,'DejaVu Sans Mono',consolas,'Courier New',monospace\">abcès artificiel → r_syn → abcès Fochier\n",
       "</pre>\n"
      ],
      "text/plain": [
       "abcès artificiel → r_syn → abcès Fochier\n"
      ]
     },
     "metadata": {},
     "output_type": "display_data"
    },
    {
     "data": {
      "text/html": [
       "<pre style=\"white-space:pre;overflow-x:auto;line-height:normal;font-family:Menlo,'DejaVu Sans Mono',consolas,'Courier New',monospace\">abcès artificiel → r_syn → abcès Fochier\n",
       "</pre>\n"
      ],
      "text/plain": [
       "abcès artificiel → r_syn → abcès Fochier\n"
      ]
     },
     "metadata": {},
     "output_type": "display_data"
    },
    {
     "data": {
      "text/html": [
       "<pre style=\"white-space:pre;overflow-x:auto;line-height:normal;font-family:Menlo,'DejaVu Sans Mono',consolas,'Courier New',monospace\">abcès artificiel → r_syn → abcès Fochier\n",
       "</pre>\n"
      ],
      "text/plain": [
       "abcès artificiel → r_syn → abcès Fochier\n"
      ]
     },
     "metadata": {},
     "output_type": "display_data"
    },
    {
     "data": {
      "text/html": [
       "<pre style=\"white-space:pre;overflow-x:auto;line-height:normal;font-family:Menlo,'DejaVu Sans Mono',consolas,'Courier New',monospace\">abcès artificiel → r_syn → abcès Fochier\n",
       "</pre>\n"
      ],
      "text/plain": [
       "abcès artificiel → r_syn → abcès Fochier\n"
      ]
     },
     "metadata": {},
     "output_type": "display_data"
    },
    {
     "data": {
      "text/html": [
       "<pre style=\"white-space:pre;overflow-x:auto;line-height:normal;font-family:Menlo,'DejaVu Sans Mono',consolas,'Courier New',monospace\">abcès artificiel → r_syn → abcès Fochier\n",
       "</pre>\n"
      ],
      "text/plain": [
       "abcès artificiel → r_syn → abcès Fochier\n"
      ]
     },
     "metadata": {},
     "output_type": "display_data"
    },
    {
     "data": {
      "text/html": [
       "<pre style=\"white-space:pre;overflow-x:auto;line-height:normal;font-family:Menlo,'DejaVu Sans Mono',consolas,'Courier New',monospace\">abcès artificiel → r_syn → abcès Fochier\n",
       "</pre>\n"
      ],
      "text/plain": [
       "abcès artificiel → r_syn → abcès Fochier\n"
      ]
     },
     "metadata": {},
     "output_type": "display_data"
    },
    {
     "data": {
      "text/html": [
       "<pre style=\"white-space:pre;overflow-x:auto;line-height:normal;font-family:Menlo,'DejaVu Sans Mono',consolas,'Courier New',monospace\">abcès artificiel → r_syn → abcès Fochier\n",
       "</pre>\n"
      ],
      "text/plain": [
       "abcès artificiel → r_syn → abcès Fochier\n"
      ]
     },
     "metadata": {},
     "output_type": "display_data"
    },
    {
     "data": {
      "text/html": [
       "<pre style=\"white-space:pre;overflow-x:auto;line-height:normal;font-family:Menlo,'DejaVu Sans Mono',consolas,'Courier New',monospace\">abcès artificiel → r_syn → abcès Fochier\n",
       "</pre>\n"
      ],
      "text/plain": [
       "abcès artificiel → r_syn → abcès Fochier\n"
      ]
     },
     "metadata": {},
     "output_type": "display_data"
    },
    {
     "data": {
      "text/html": [
       "<pre style=\"white-space:pre;overflow-x:auto;line-height:normal;font-family:Menlo,'DejaVu Sans Mono',consolas,'Courier New',monospace\">abcès artificiel → r_syn → abcès Fochier\n",
       "</pre>\n"
      ],
      "text/plain": [
       "abcès artificiel → r_syn → abcès Fochier\n"
      ]
     },
     "metadata": {},
     "output_type": "display_data"
    },
    {
     "data": {
      "text/html": [
       "<pre style=\"white-space:pre;overflow-x:auto;line-height:normal;font-family:Menlo,'DejaVu Sans Mono',consolas,'Courier New',monospace\">abcès artificiel → r_syn → abcès Fochier\n",
       "</pre>\n"
      ],
      "text/plain": [
       "abcès artificiel → r_syn → abcès Fochier\n"
      ]
     },
     "metadata": {},
     "output_type": "display_data"
    },
    {
     "data": {
      "text/html": [
       "<pre style=\"white-space:pre;overflow-x:auto;line-height:normal;font-family:Menlo,'DejaVu Sans Mono',consolas,'Courier New',monospace\">abcès artificiel → r_syn → abcès Fochier\n",
       "</pre>\n"
      ],
      "text/plain": [
       "abcès artificiel → r_syn → abcès Fochier\n"
      ]
     },
     "metadata": {},
     "output_type": "display_data"
    },
    {
     "data": {
      "text/html": [
       "<pre style=\"white-space:pre;overflow-x:auto;line-height:normal;font-family:Menlo,'DejaVu Sans Mono',consolas,'Courier New',monospace\">abcès artificiel → r_syn → abcès Fochier\n",
       "</pre>\n"
      ],
      "text/plain": [
       "abcès artificiel → r_syn → abcès Fochier\n"
      ]
     },
     "metadata": {},
     "output_type": "display_data"
    },
    {
     "data": {
      "text/html": [
       "<pre style=\"white-space:pre;overflow-x:auto;line-height:normal;font-family:Menlo,'DejaVu Sans Mono',consolas,'Courier New',monospace\">abcès artificiel → r_syn → abcès Fochier\n",
       "</pre>\n"
      ],
      "text/plain": [
       "abcès artificiel → r_syn → abcès Fochier\n"
      ]
     },
     "metadata": {},
     "output_type": "display_data"
    },
    {
     "data": {
      "text/html": [
       "<pre style=\"white-space:pre;overflow-x:auto;line-height:normal;font-family:Menlo,'DejaVu Sans Mono',consolas,'Courier New',monospace\">abcès artificiel → r_syn → abcès Fochier\n",
       "</pre>\n"
      ],
      "text/plain": [
       "abcès artificiel → r_syn → abcès Fochier\n"
      ]
     },
     "metadata": {},
     "output_type": "display_data"
    },
    {
     "data": {
      "text/html": [
       "<pre style=\"white-space:pre;overflow-x:auto;line-height:normal;font-family:Menlo,'DejaVu Sans Mono',consolas,'Courier New',monospace\">abcès artificiel → r_syn → abcès Fochier\n",
       "</pre>\n"
      ],
      "text/plain": [
       "abcès artificiel → r_syn → abcès Fochier\n"
      ]
     },
     "metadata": {},
     "output_type": "display_data"
    },
    {
     "data": {
      "text/html": [
       "<pre style=\"white-space:pre;overflow-x:auto;line-height:normal;font-family:Menlo,'DejaVu Sans Mono',consolas,'Courier New',monospace\">abcès artificiel → r_syn → abcès Fochier\n",
       "</pre>\n"
      ],
      "text/plain": [
       "abcès artificiel → r_syn → abcès Fochier\n"
      ]
     },
     "metadata": {},
     "output_type": "display_data"
    },
    {
     "data": {
      "text/html": [
       "<pre style=\"white-space:pre;overflow-x:auto;line-height:normal;font-family:Menlo,'DejaVu Sans Mono',consolas,'Courier New',monospace\">abcès artificiel → r_syn → abcès Fochier\n",
       "</pre>\n"
      ],
      "text/plain": [
       "abcès artificiel → r_syn → abcès Fochier\n"
      ]
     },
     "metadata": {},
     "output_type": "display_data"
    },
    {
     "data": {
      "text/html": [
       "<pre style=\"white-space:pre;overflow-x:auto;line-height:normal;font-family:Menlo,'DejaVu Sans Mono',consolas,'Courier New',monospace\">abcès artificiel → r_syn → abcès Fochier\n",
       "</pre>\n"
      ],
      "text/plain": [
       "abcès artificiel → r_syn → abcès Fochier\n"
      ]
     },
     "metadata": {},
     "output_type": "display_data"
    },
    {
     "data": {
      "text/html": [
       "<pre style=\"white-space:pre;overflow-x:auto;line-height:normal;font-family:Menlo,'DejaVu Sans Mono',consolas,'Courier New',monospace\">abcès artificiel → r_syn → abcès Fochier\n",
       "</pre>\n"
      ],
      "text/plain": [
       "abcès artificiel → r_syn → abcès Fochier\n"
      ]
     },
     "metadata": {},
     "output_type": "display_data"
    },
    {
     "data": {
      "text/html": [
       "<pre style=\"white-space:pre;overflow-x:auto;line-height:normal;font-family:Menlo,'DejaVu Sans Mono',consolas,'Courier New',monospace\">abcès artificiel → r_syn → abcès Fochier\n",
       "</pre>\n"
      ],
      "text/plain": [
       "abcès artificiel → r_syn → abcès Fochier\n"
      ]
     },
     "metadata": {},
     "output_type": "display_data"
    },
    {
     "data": {
      "text/html": [
       "<pre style=\"white-space:pre;overflow-x:auto;line-height:normal;font-family:Menlo,'DejaVu Sans Mono',consolas,'Courier New',monospace\">abcès artificiel → r_syn → abcès Fochier\n",
       "</pre>\n"
      ],
      "text/plain": [
       "abcès artificiel → r_syn → abcès Fochier\n"
      ]
     },
     "metadata": {},
     "output_type": "display_data"
    },
    {
     "data": {
      "text/html": [
       "<pre style=\"white-space:pre;overflow-x:auto;line-height:normal;font-family:Menlo,'DejaVu Sans Mono',consolas,'Courier New',monospace\">abcès artificiel → r_syn → abcès Fochier\n",
       "</pre>\n"
      ],
      "text/plain": [
       "abcès artificiel → r_syn → abcès Fochier\n"
      ]
     },
     "metadata": {},
     "output_type": "display_data"
    },
    {
     "data": {
      "text/html": [
       "<pre style=\"white-space:pre;overflow-x:auto;line-height:normal;font-family:Menlo,'DejaVu Sans Mono',consolas,'Courier New',monospace\">abcès artificiel → r_syn → abcès Fochier\n",
       "</pre>\n"
      ],
      "text/plain": [
       "abcès artificiel → r_syn → abcès Fochier\n"
      ]
     },
     "metadata": {},
     "output_type": "display_data"
    },
    {
     "data": {
      "text/html": [
       "<pre style=\"white-space:pre;overflow-x:auto;line-height:normal;font-family:Menlo,'DejaVu Sans Mono',consolas,'Courier New',monospace\">abcès artificiel → r_syn → abcès Fochier\n",
       "</pre>\n"
      ],
      "text/plain": [
       "abcès artificiel → r_syn → abcès Fochier\n"
      ]
     },
     "metadata": {},
     "output_type": "display_data"
    },
    {
     "data": {
      "text/html": [
       "<pre style=\"white-space:pre;overflow-x:auto;line-height:normal;font-family:Menlo,'DejaVu Sans Mono',consolas,'Courier New',monospace\">abcès artificiel → r_syn → abcès Fochier\n",
       "</pre>\n"
      ],
      "text/plain": [
       "abcès artificiel → r_syn → abcès Fochier\n"
      ]
     },
     "metadata": {},
     "output_type": "display_data"
    },
    {
     "data": {
      "text/html": [
       "<pre style=\"white-space:pre;overflow-x:auto;line-height:normal;font-family:Menlo,'DejaVu Sans Mono',consolas,'Courier New',monospace\">abcès artificiel → r_syn → abcès Fochier\n",
       "</pre>\n"
      ],
      "text/plain": [
       "abcès artificiel → r_syn → abcès Fochier\n"
      ]
     },
     "metadata": {},
     "output_type": "display_data"
    },
    {
     "data": {
      "text/html": [
       "<pre style=\"white-space:pre;overflow-x:auto;line-height:normal;font-family:Menlo,'DejaVu Sans Mono',consolas,'Courier New',monospace\">abcès artificiel → r_syn → abcès Fochier\n",
       "</pre>\n"
      ],
      "text/plain": [
       "abcès artificiel → r_syn → abcès Fochier\n"
      ]
     },
     "metadata": {},
     "output_type": "display_data"
    },
    {
     "data": {
      "text/html": [
       "<pre style=\"white-space:pre;overflow-x:auto;line-height:normal;font-family:Menlo,'DejaVu Sans Mono',consolas,'Courier New',monospace\">abcès artificiel → r_syn → abcès Fochier\n",
       "</pre>\n"
      ],
      "text/plain": [
       "abcès artificiel → r_syn → abcès Fochier\n"
      ]
     },
     "metadata": {},
     "output_type": "display_data"
    },
    {
     "data": {
      "text/html": [
       "<pre style=\"white-space:pre;overflow-x:auto;line-height:normal;font-family:Menlo,'DejaVu Sans Mono',consolas,'Courier New',monospace\">abcès artificiel → r_syn → abcès Fochier\n",
       "</pre>\n"
      ],
      "text/plain": [
       "abcès artificiel → r_syn → abcès Fochier\n"
      ]
     },
     "metadata": {},
     "output_type": "display_data"
    },
    {
     "data": {
      "text/html": [
       "<pre style=\"white-space:pre;overflow-x:auto;line-height:normal;font-family:Menlo,'DejaVu Sans Mono',consolas,'Courier New',monospace\">abcès artificiel → r_syn → abcès Fochier\n",
       "</pre>\n"
      ],
      "text/plain": [
       "abcès artificiel → r_syn → abcès Fochier\n"
      ]
     },
     "metadata": {},
     "output_type": "display_data"
    },
    {
     "data": {
      "text/html": [
       "<pre style=\"white-space:pre;overflow-x:auto;line-height:normal;font-family:Menlo,'DejaVu Sans Mono',consolas,'Courier New',monospace\">abcès artificiel → r_syn → abcès Fochier\n",
       "</pre>\n"
      ],
      "text/plain": [
       "abcès artificiel → r_syn → abcès Fochier\n"
      ]
     },
     "metadata": {},
     "output_type": "display_data"
    },
    {
     "data": {
      "text/html": [
       "<pre style=\"white-space:pre;overflow-x:auto;line-height:normal;font-family:Menlo,'DejaVu Sans Mono',consolas,'Courier New',monospace\">abcès artificiel → r_syn → abcès Fochier\n",
       "</pre>\n"
      ],
      "text/plain": [
       "abcès artificiel → r_syn → abcès Fochier\n"
      ]
     },
     "metadata": {},
     "output_type": "display_data"
    },
    {
     "data": {
      "text/html": [
       "<pre style=\"white-space:pre;overflow-x:auto;line-height:normal;font-family:Menlo,'DejaVu Sans Mono',consolas,'Courier New',monospace\">abcès artificiel → r_syn → abcès Fochier\n",
       "</pre>\n"
      ],
      "text/plain": [
       "abcès artificiel → r_syn → abcès Fochier\n"
      ]
     },
     "metadata": {},
     "output_type": "display_data"
    },
    {
     "data": {
      "text/html": [
       "<pre style=\"white-space:pre;overflow-x:auto;line-height:normal;font-family:Menlo,'DejaVu Sans Mono',consolas,'Courier New',monospace\">abcès artificiel → r_syn → abcès Fochier\n",
       "</pre>\n"
      ],
      "text/plain": [
       "abcès artificiel → r_syn → abcès Fochier\n"
      ]
     },
     "metadata": {},
     "output_type": "display_data"
    },
    {
     "data": {
      "text/html": [
       "<pre style=\"white-space:pre;overflow-x:auto;line-height:normal;font-family:Menlo,'DejaVu Sans Mono',consolas,'Courier New',monospace\">abcès artificiel → r_syn → abcès Fochier\n",
       "</pre>\n"
      ],
      "text/plain": [
       "abcès artificiel → r_syn → abcès Fochier\n"
      ]
     },
     "metadata": {},
     "output_type": "display_data"
    },
    {
     "data": {
      "text/html": [
       "<pre style=\"white-space:pre;overflow-x:auto;line-height:normal;font-family:Menlo,'DejaVu Sans Mono',consolas,'Courier New',monospace\">abcès artificiel → r_syn → abcès Fochier\n",
       "</pre>\n"
      ],
      "text/plain": [
       "abcès artificiel → r_syn → abcès Fochier\n"
      ]
     },
     "metadata": {},
     "output_type": "display_data"
    },
    {
     "data": {
      "text/html": [
       "<pre style=\"white-space:pre;overflow-x:auto;line-height:normal;font-family:Menlo,'DejaVu Sans Mono',consolas,'Courier New',monospace\">abcès artificiel → r_syn → abcès Fochier\n",
       "</pre>\n"
      ],
      "text/plain": [
       "abcès artificiel → r_syn → abcès Fochier\n"
      ]
     },
     "metadata": {},
     "output_type": "display_data"
    },
    {
     "data": {
      "text/html": [
       "<pre style=\"white-space:pre;overflow-x:auto;line-height:normal;font-family:Menlo,'DejaVu Sans Mono',consolas,'Courier New',monospace\">abcès artificiel → r_syn → abcès Fochier\n",
       "</pre>\n"
      ],
      "text/plain": [
       "abcès artificiel → r_syn → abcès Fochier\n"
      ]
     },
     "metadata": {},
     "output_type": "display_data"
    },
    {
     "data": {
      "text/html": [
       "<pre style=\"white-space:pre;overflow-x:auto;line-height:normal;font-family:Menlo,'DejaVu Sans Mono',consolas,'Courier New',monospace\">abcès artificiel → r_syn → abcès Fochier\n",
       "</pre>\n"
      ],
      "text/plain": [
       "abcès artificiel → r_syn → abcès Fochier\n"
      ]
     },
     "metadata": {},
     "output_type": "display_data"
    },
    {
     "data": {
      "text/html": [
       "<pre style=\"white-space:pre;overflow-x:auto;line-height:normal;font-family:Menlo,'DejaVu Sans Mono',consolas,'Courier New',monospace\">abcès artificiel → r_syn → abcès Fochier\n",
       "</pre>\n"
      ],
      "text/plain": [
       "abcès artificiel → r_syn → abcès Fochier\n"
      ]
     },
     "metadata": {},
     "output_type": "display_data"
    },
    {
     "data": {
      "text/html": [
       "<pre style=\"white-space:pre;overflow-x:auto;line-height:normal;font-family:Menlo,'DejaVu Sans Mono',consolas,'Courier New',monospace\">abcès artificiel → r_syn → abcès Fochier\n",
       "</pre>\n"
      ],
      "text/plain": [
       "abcès artificiel → r_syn → abcès Fochier\n"
      ]
     },
     "metadata": {},
     "output_type": "display_data"
    },
    {
     "data": {
      "text/html": [
       "<pre style=\"white-space:pre;overflow-x:auto;line-height:normal;font-family:Menlo,'DejaVu Sans Mono',consolas,'Courier New',monospace\">abcès artificiel → r_syn → abcès Fochier\n",
       "</pre>\n"
      ],
      "text/plain": [
       "abcès artificiel → r_syn → abcès Fochier\n"
      ]
     },
     "metadata": {},
     "output_type": "display_data"
    },
    {
     "data": {
      "text/html": [
       "<pre style=\"white-space:pre;overflow-x:auto;line-height:normal;font-family:Menlo,'DejaVu Sans Mono',consolas,'Courier New',monospace\">abcès artificiel → r_syn → abcès Fochier\n",
       "</pre>\n"
      ],
      "text/plain": [
       "abcès artificiel → r_syn → abcès Fochier\n"
      ]
     },
     "metadata": {},
     "output_type": "display_data"
    },
    {
     "data": {
      "text/html": [
       "<pre style=\"white-space:pre;overflow-x:auto;line-height:normal;font-family:Menlo,'DejaVu Sans Mono',consolas,'Courier New',monospace\">abcès artificiel → r_syn → abcès Fochier\n",
       "</pre>\n"
      ],
      "text/plain": [
       "abcès artificiel → r_syn → abcès Fochier\n"
      ]
     },
     "metadata": {},
     "output_type": "display_data"
    },
    {
     "data": {
      "text/html": [
       "<pre style=\"white-space:pre;overflow-x:auto;line-height:normal;font-family:Menlo,'DejaVu Sans Mono',consolas,'Courier New',monospace\">abcès artificiel → r_syn → abcès Fochier\n",
       "</pre>\n"
      ],
      "text/plain": [
       "abcès artificiel → r_syn → abcès Fochier\n"
      ]
     },
     "metadata": {},
     "output_type": "display_data"
    },
    {
     "data": {
      "text/html": [
       "<pre style=\"white-space:pre;overflow-x:auto;line-height:normal;font-family:Menlo,'DejaVu Sans Mono',consolas,'Courier New',monospace\"><span style=\"color: #008080; text-decoration-color: #008080; font-weight: bold\">60</span>\n",
       "</pre>\n"
      ],
      "text/plain": [
       "\u001b[1;36m60\u001b[0m\n"
      ]
     },
     "metadata": {},
     "output_type": "display_data"
    }
   ],
   "source": [
    "%reload_ext autoreload\n",
    "analyser = c.ContentAnalyzer(nlp_model=nlp)\n",
    "analyser.extractors = [c.SynonymeExtractor()]\n",
    "\n",
    "text = \"L'abcès artificiel peut aussi être désigné par « abcès de Fochier » ou encore « abcès de fixation ».\"\n",
    "display_dep(text)\n",
    "print(len(analyser.analyse_content(text, True)))"
   ]
  },
  {
   "cell_type": "code",
   "execution_count": 8,
   "id": "a6876889",
   "metadata": {},
   "outputs": [
    {
     "data": {
      "text/plain": [
       "'être'"
      ]
     },
     "execution_count": 8,
     "metadata": {},
     "output_type": "execute_result"
    }
   ],
   "source": [
    "mot = nlp(\"est\")[0]\n",
    "mot.lemma_"
   ]
  }
 ],
 "metadata": {
  "kernelspec": {
   "display_name": ".venv",
   "language": "python",
   "name": "python3"
  },
  "language_info": {
   "codemirror_mode": {
    "name": "ipython",
    "version": 3
   },
   "file_extension": ".py",
   "mimetype": "text/x-python",
   "name": "python",
   "nbconvert_exporter": "python",
   "pygments_lexer": "ipython3",
   "version": "3.10.12"
  }
 },
 "nbformat": 4,
 "nbformat_minor": 5
}
